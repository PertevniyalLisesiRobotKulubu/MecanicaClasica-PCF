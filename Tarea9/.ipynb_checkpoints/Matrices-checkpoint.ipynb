{
 "cells": [
  {
   "cell_type": "code",
   "execution_count": 67,
   "metadata": {
    "collapsed": false
   },
   "outputs": [],
   "source": [
    "from __future__ import division\n",
    "from sympy import *\n",
    "x, y, z, t = symbols('x y z t')\n",
    "k, m, w, K = symbols('k m w K1', integer=True)\n",
    "f, g, h = symbols('f g h', cls=Function)\n",
    "init_printing()"
   ]
  },
  {
   "cell_type": "code",
   "execution_count": 52,
   "metadata": {
    "collapsed": false
   },
   "outputs": [
    {
     "data": {
      "image/png": "[encoded data removed]",
      "text/latex": [
       "$$\\left[\\begin{matrix}k - m w^{2} & - k & 0\\\\- k & 2 k - m w^{2} & - k\\\\0 & - k & k - m w^{2}\\end{matrix}\\right]$$"
      ],
      "text/plain": [
       "⎡       2                      ⎤\n",
       "⎢k - m⋅w       -k         0    ⎥\n",
       "⎢                              ⎥\n",
       "⎢                   2          ⎥\n",
       "⎢   -k     2⋅k - m⋅w      -k   ⎥\n",
       "⎢                              ⎥\n",
       "⎢                             2⎥\n",
       "⎣   0          -k      k - m⋅w ⎦"
      ]
     },
     "execution_count": 52,
     "metadata": {},
     "output_type": "execute_result"
    }
   ],
   "source": [
    "#Problema 1\n",
    "\n",
    "#First Case -->  M - - k - - M - - k - - M\n",
    "\n",
    "M = Matrix([[k - m*w**2, -k, 0], [-k, 2*k- m*w**2, -k], [0, -k, k- m*w**2]])\n",
    "\n"
   ]
  },
  {
   "cell_type": "code",
   "execution_count": null,
   "metadata": {
    "collapsed": true
   },
   "outputs": [],
   "source": [
    "#Problema 3 \n",
    "\n",
    "Mat = Matrix([[K+k-m*w**2, ],[],[],[]])"
   ]
  }
 ],
 "metadata": {
  "kernelspec": {
   "display_name": "Python 3",
   "language": "python",
   "name": "python3"
  },
  "language_info": {
   "codemirror_mode": {
    "name": "ipython",
    "version": 3
   },
   "file_extension": ".py",
   "mimetype": "text/x-python",
   "name": "python",
   "nbconvert_exporter": "python",
   "pygments_lexer": "ipython3",
   "version": "3.4.0"
  }
 },
 "nbformat": 4,
 "nbformat_minor": 0
}
