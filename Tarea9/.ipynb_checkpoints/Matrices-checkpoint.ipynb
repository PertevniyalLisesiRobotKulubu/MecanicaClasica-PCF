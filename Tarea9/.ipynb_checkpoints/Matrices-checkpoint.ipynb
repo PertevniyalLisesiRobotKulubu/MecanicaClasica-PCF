{
 "cells": [
  {
   "cell_type": "code",
   "execution_count": 4,
   "metadata": {
    "collapsed": false
   },
   "outputs": [],
   "source": [
    "from __future__ import division\n",
    "from sympy import *\n",
    "x, y, z, t = symbols('x y z t')\n",
    "k, m, m1, m2, m3, m4, w, K = symbols('k m m1 m2 m3 m4 w K', integer=True)\n",
    "f, g, h = symbols('f g h', cls=Function)\n",
    "init_printing()"
   ]
  },
  {
   "cell_type": "code",
   "execution_count": null,
   "metadata": {
    "collapsed": false
   },
   "outputs": [],
   "source": [
    "#Problema 1\n",
    "\n",
    "#First Case -->  M - - k - - M - - k - - M\n",
    "\n",
    "M = Matrix([[k - m*w**2, -k, 0], [-k, 2*k- m*w**2, -k], [0, -k, k- m*w**2]])\n",
    "M.eigenvals()\n"
   ]
  },
  {
   "cell_type": "code",
   "execution_count": 5,
   "metadata": {
    "collapsed": false
   },
   "outputs": [
    {
     "data": {
      "image/png": "[encoded data removed]",
      "text/latex": [
       "$$\\left[\\begin{matrix}K + k - m w^{2} & - k & 0 & - K\\\\- k & K + k - m w^{2} & - K & 0\\\\0 & - K & 2 K - m w^{2} & - K\\\\- K & 0 & - K & 2 K - m w^{2}\\end{matrix}\\right]$$"
      ],
      "text/plain": [
       "⎡           2                                      ⎤\n",
       "⎢K + k - m⋅w        -k           0           -K    ⎥\n",
       "⎢                                                  ⎥\n",
       "⎢                         2                        ⎥\n",
       "⎢     -k       K + k - m⋅w       -K          0     ⎥\n",
       "⎢                                                  ⎥\n",
       "⎢                                     2            ⎥\n",
       "⎢     0             -K       2⋅K - m⋅w       -K    ⎥\n",
       "⎢                                                  ⎥\n",
       "⎢                                                 2⎥\n",
       "⎣     -K            0            -K      2⋅K - m⋅w ⎦"
      ]
     },
     "execution_count": 5,
     "metadata": {},
     "output_type": "execute_result"
    }
   ],
   "source": [
    "#Problema 3 \n",
    "\n",
    "Mat1 = Matrix([[K+k-m1*w**2, -k, 0, -K],[-k, K+k-m2*w**2,-K,0],[0, -K, 2*K-m3*w**2, -K],[-K, 0, -K,2*K-m4*w**2]])\n",
    "\n",
    "Mat2 = Matrix([[K+k-m*w**2, -k, 0, -K],[-k, K+k-m*w**2,-K,0],[0, -K, 2*K-m*w**2, -K],[-K, 0, -K,2*K-m*w**2]])\n",
    "\n",
    "Mat2"
   ]
  },
  {
   "cell_type": "code",
   "execution_count": 11,
   "metadata": {
    "collapsed": false
   },
   "outputs": [
    {
     "data": {
      "image/png": "[encoded data removed]",
      "text/latex": [
       "$$\\frac{\\sqrt{2}}{\\sqrt{K}}$$"
      ],
      "text/plain": [
       "  ___\n",
       "╲╱ 2 \n",
       "─────\n",
       "  ___\n",
       "╲╱ K "
      ]
     },
     "execution_count": 11,
     "metadata": {},
     "output_type": "execute_result"
    }
   ],
   "source": [
    "sqrt(2*K)/K"
   ]
  }
 ],
 "metadata": {
  "kernelspec": {
   "display_name": "Python 3",
   "language": "python",
   "name": "python3"
  },
  "language_info": {
   "codemirror_mode": {
    "name": "ipython",
    "version": 3
   },
   "file_extension": ".py",
   "mimetype": "text/x-python",
   "name": "python",
   "nbconvert_exporter": "python",
   "pygments_lexer": "ipython3",
   "version": "3.4.0"
  }
 },
 "nbformat": 4,
 "nbformat_minor": 0
}
